{
  "nbformat": 4,
  "nbformat_minor": 0,
  "metadata": {
    "kernelspec": {
      "display_name": "Python 3",
      "language": "python",
      "name": "python3"
    },
    "language_info": {
      "codemirror_mode": {
        "name": "ipython",
        "version": 3
      },
      "file_extension": ".py",
      "mimetype": "text/x-python",
      "name": "python",
      "nbconvert_exporter": "python",
      "pygments_lexer": "ipython3",
      "version": "3.7.4"
    },
    "colab": {
      "name": "taller9.ipynb",
      "provenance": []
    }
  },
  "cells": [
    {
      "cell_type": "markdown",
      "metadata": {
        "id": "do22ZgkqanXD"
      },
      "source": [
        "<img src='https://encrypted-tbn0.gstatic.com/images?q=tbn%3AANd9GcQ-VfNtOyJbsaxu43Kztf_cv1mgBG6ZIQZEVw&usqp=CAU'>\n",
        "\n",
        "# Procesamiento de Lenguaje Natural\n",
        "\n",
        "## Taller #9: Modelado de temas\n",
        "`Fecha de entrega: Mayo 6, 2021. (Antes del inicio de la próxima clase).`\n",
        "\n",
        "`Modo de entrega: Subir link de GitHub al aula virtual.`"
      ]
    },
    {
      "cell_type": "code",
      "metadata": {
        "id": "Nr67KlYYanXJ",
        "outputId": "81a9da84-b8b4-44b5-ecae-ebfb14327ea4"
      },
      "source": [
        "import re\n",
        "import pandas as pd \n",
        "from pprint import pprint\n",
        "\n",
        "from nltk.corpus import stopwords\n",
        "stopwords = stopwords.words('spanish')\n",
        "\n",
        "import pyLDAvis.gensim_models\n",
        "from gensim.models import LdaModel\n",
        "from gensim.corpora import Dictionary\n",
        "\n",
        "import warnings\n",
        "warnings.filterwarnings(\"ignore\", category=DeprecationWarning)"
      ],
      "execution_count": null,
      "outputs": [
        {
          "output_type": "stream",
          "text": [
            "/opt/anaconda3/lib/python3.7/site-packages/scipy/sparse/sparsetools.py:21: DeprecationWarning: `scipy.sparse.sparsetools` is deprecated!\n",
            "scipy.sparse.sparsetools is a private module for scipy.sparse, and should not be used.\n",
            "  _deprecated()\n"
          ],
          "name": "stderr"
        }
      ]
    },
    {
      "cell_type": "code",
      "metadata": {
        "id": "LNu43EhWanXM",
        "outputId": "7c21dc04-60f2-4f5c-88c6-9a6056b4c493"
      },
      "source": [
        "# Cargar datos\n",
        "path = 'C:\\Users\\ricar\\OneDrive\\Documentos\\Universidad\\Konrad Lorenz\\2o Semestre\\Procesamiento de Lenguaje Natural'\n",
        "data = pd.read_csv(path)\n",
        "data.head()"
      ],
      "execution_count": null,
      "outputs": [
        {
          "output_type": "execute_result",
          "data": {
            "text/html": [
              "<div>\n",
              "<style scoped>\n",
              "    .dataframe tbody tr th:only-of-type {\n",
              "        vertical-align: middle;\n",
              "    }\n",
              "\n",
              "    .dataframe tbody tr th {\n",
              "        vertical-align: top;\n",
              "    }\n",
              "\n",
              "    .dataframe thead th {\n",
              "        text-align: right;\n",
              "    }\n",
              "</style>\n",
              "<table border=\"1\" class=\"dataframe\">\n",
              "  <thead>\n",
              "    <tr style=\"text-align: right;\">\n",
              "      <th></th>\n",
              "      <th>review_id</th>\n",
              "      <th>product_id</th>\n",
              "      <th>reviewer_id</th>\n",
              "      <th>stars</th>\n",
              "      <th>review_body</th>\n",
              "      <th>review_title</th>\n",
              "      <th>language</th>\n",
              "      <th>product_category</th>\n",
              "    </tr>\n",
              "  </thead>\n",
              "  <tbody>\n",
              "    <tr>\n",
              "      <th>0</th>\n",
              "      <td>es_0825565</td>\n",
              "      <td>product_es_0370490</td>\n",
              "      <td>reviewer_es_0174781</td>\n",
              "      <td>3</td>\n",
              "      <td>Buen. Buena calidad, y buena presentación.</td>\n",
              "      <td>Contenta</td>\n",
              "      <td>es</td>\n",
              "      <td>jewelry</td>\n",
              "    </tr>\n",
              "    <tr>\n",
              "      <th>1</th>\n",
              "      <td>es_0227934</td>\n",
              "      <td>product_es_0354224</td>\n",
              "      <td>reviewer_es_0411613</td>\n",
              "      <td>3</td>\n",
              "      <td>Un producto a perfecto, para salir de casa con...</td>\n",
              "      <td>Versatilidad</td>\n",
              "      <td>es</td>\n",
              "      <td>video_games</td>\n",
              "    </tr>\n",
              "    <tr>\n",
              "      <th>2</th>\n",
              "      <td>es_0468601</td>\n",
              "      <td>product_es_0665460</td>\n",
              "      <td>reviewer_es_0348315</td>\n",
              "      <td>1</td>\n",
              "      <td>No funciona con Nintendo Switch. No hay forma ...</td>\n",
              "      <td>Decepción absoluta</td>\n",
              "      <td>es</td>\n",
              "      <td>video_games</td>\n",
              "    </tr>\n",
              "    <tr>\n",
              "      <th>3</th>\n",
              "      <td>es_0814494</td>\n",
              "      <td>product_es_0692692</td>\n",
              "      <td>reviewer_es_0951508</td>\n",
              "      <td>5</td>\n",
              "      <td>Recomendado, los utilizo para pc y no me dan n...</td>\n",
              "      <td>Auriculares Pecham ps4</td>\n",
              "      <td>es</td>\n",
              "      <td>video_games</td>\n",
              "    </tr>\n",
              "    <tr>\n",
              "      <th>4</th>\n",
              "      <td>es_0206329</td>\n",
              "      <td>product_es_0728826</td>\n",
              "      <td>reviewer_es_0493255</td>\n",
              "      <td>4</td>\n",
              "      <td>El cable funciona bien podria ser un poco mas ...</td>\n",
              "      <td>Perfecto</td>\n",
              "      <td>es</td>\n",
              "      <td>video_games</td>\n",
              "    </tr>\n",
              "  </tbody>\n",
              "</table>\n",
              "</div>"
            ],
            "text/plain": [
              "    review_id          product_id          reviewer_id  stars  \\\n",
              "0  es_0825565  product_es_0370490  reviewer_es_0174781      3   \n",
              "1  es_0227934  product_es_0354224  reviewer_es_0411613      3   \n",
              "2  es_0468601  product_es_0665460  reviewer_es_0348315      1   \n",
              "3  es_0814494  product_es_0692692  reviewer_es_0951508      5   \n",
              "4  es_0206329  product_es_0728826  reviewer_es_0493255      4   \n",
              "\n",
              "                                         review_body            review_title  \\\n",
              "0         Buen. Buena calidad, y buena presentación.                Contenta   \n",
              "1  Un producto a perfecto, para salir de casa con...            Versatilidad   \n",
              "2  No funciona con Nintendo Switch. No hay forma ...      Decepción absoluta   \n",
              "3  Recomendado, los utilizo para pc y no me dan n...  Auriculares Pecham ps4   \n",
              "4  El cable funciona bien podria ser un poco mas ...                Perfecto   \n",
              "\n",
              "  language product_category  \n",
              "0       es          jewelry  \n",
              "1       es      video_games  \n",
              "2       es      video_games  \n",
              "3       es      video_games  \n",
              "4       es      video_games  "
            ]
          },
          "metadata": {
            "tags": []
          },
          "execution_count": 4
        }
      ]
    },
    {
      "cell_type": "markdown",
      "metadata": {
        "id": "LFr8qgKBanXN"
      },
      "source": [
        "###  `[12 pts]` Punto 1: Hacer pre-procesamiento del texto"
      ]
    },
    {
      "cell_type": "code",
      "metadata": {
        "id": "g8vvh1UwanXO",
        "outputId": "f69b3a20-80f2-4d69-c032-30b57ce05a95"
      },
      "source": [
        ""
      ],
      "execution_count": null,
      "outputs": [
        {
          "output_type": "execute_result",
          "data": {
            "text/html": [
              "<div>\n",
              "<style scoped>\n",
              "    .dataframe tbody tr th:only-of-type {\n",
              "        vertical-align: middle;\n",
              "    }\n",
              "\n",
              "    .dataframe tbody tr th {\n",
              "        vertical-align: top;\n",
              "    }\n",
              "\n",
              "    .dataframe thead th {\n",
              "        text-align: right;\n",
              "    }\n",
              "</style>\n",
              "<table border=\"1\" class=\"dataframe\">\n",
              "  <thead>\n",
              "    <tr style=\"text-align: right;\">\n",
              "      <th></th>\n",
              "      <th>review_id</th>\n",
              "      <th>product_id</th>\n",
              "      <th>reviewer_id</th>\n",
              "      <th>stars</th>\n",
              "      <th>review_body</th>\n",
              "      <th>review_title</th>\n",
              "      <th>language</th>\n",
              "      <th>product_category</th>\n",
              "      <th>pp</th>\n",
              "    </tr>\n",
              "  </thead>\n",
              "  <tbody>\n",
              "    <tr>\n",
              "      <th>0</th>\n",
              "      <td>es_0825565</td>\n",
              "      <td>product_es_0370490</td>\n",
              "      <td>reviewer_es_0174781</td>\n",
              "      <td>3</td>\n",
              "      <td>Buen. Buena calidad, y buena presentación.</td>\n",
              "      <td>Contenta</td>\n",
              "      <td>es</td>\n",
              "      <td>jewelry</td>\n",
              "      <td>[buen, buena, calidad, buena, presentación]</td>\n",
              "    </tr>\n",
              "    <tr>\n",
              "      <th>1</th>\n",
              "      <td>es_0227934</td>\n",
              "      <td>product_es_0354224</td>\n",
              "      <td>reviewer_es_0411613</td>\n",
              "      <td>3</td>\n",
              "      <td>Un producto a perfecto, para salir de casa con...</td>\n",
              "      <td>Versatilidad</td>\n",
              "      <td>es</td>\n",
              "      <td>video_games</td>\n",
              "      <td>[producto, perfecto, salir, casa, nintendo, sw...</td>\n",
              "    </tr>\n",
              "    <tr>\n",
              "      <th>2</th>\n",
              "      <td>es_0468601</td>\n",
              "      <td>product_es_0665460</td>\n",
              "      <td>reviewer_es_0348315</td>\n",
              "      <td>1</td>\n",
              "      <td>No funciona con Nintendo Switch. No hay forma ...</td>\n",
              "      <td>Decepción absoluta</td>\n",
              "      <td>es</td>\n",
              "      <td>video_games</td>\n",
              "      <td>[funciona, nintendo, switch, forma, emparejarl...</td>\n",
              "    </tr>\n",
              "    <tr>\n",
              "      <th>3</th>\n",
              "      <td>es_0814494</td>\n",
              "      <td>product_es_0692692</td>\n",
              "      <td>reviewer_es_0951508</td>\n",
              "      <td>5</td>\n",
              "      <td>Recomendado, los utilizo para pc y no me dan n...</td>\n",
              "      <td>Auriculares Pecham ps4</td>\n",
              "      <td>es</td>\n",
              "      <td>video_games</td>\n",
              "      <td>[recomendado, utilizo, pc, dan, ningún, proble...</td>\n",
              "    </tr>\n",
              "    <tr>\n",
              "      <th>4</th>\n",
              "      <td>es_0206329</td>\n",
              "      <td>product_es_0728826</td>\n",
              "      <td>reviewer_es_0493255</td>\n",
              "      <td>4</td>\n",
              "      <td>El cable funciona bien podria ser un poco mas ...</td>\n",
              "      <td>Perfecto</td>\n",
              "      <td>es</td>\n",
              "      <td>video_games</td>\n",
              "      <td>[cable, funciona, bien, podria, ser, mas, larg...</td>\n",
              "    </tr>\n",
              "  </tbody>\n",
              "</table>\n",
              "</div>"
            ],
            "text/plain": [
              "    review_id          product_id          reviewer_id  stars  \\\n",
              "0  es_0825565  product_es_0370490  reviewer_es_0174781      3   \n",
              "1  es_0227934  product_es_0354224  reviewer_es_0411613      3   \n",
              "2  es_0468601  product_es_0665460  reviewer_es_0348315      1   \n",
              "3  es_0814494  product_es_0692692  reviewer_es_0951508      5   \n",
              "4  es_0206329  product_es_0728826  reviewer_es_0493255      4   \n",
              "\n",
              "                                         review_body            review_title  \\\n",
              "0         Buen. Buena calidad, y buena presentación.                Contenta   \n",
              "1  Un producto a perfecto, para salir de casa con...            Versatilidad   \n",
              "2  No funciona con Nintendo Switch. No hay forma ...      Decepción absoluta   \n",
              "3  Recomendado, los utilizo para pc y no me dan n...  Auriculares Pecham ps4   \n",
              "4  El cable funciona bien podria ser un poco mas ...                Perfecto   \n",
              "\n",
              "  language product_category                                                 pp  \n",
              "0       es          jewelry        [buen, buena, calidad, buena, presentación]  \n",
              "1       es      video_games  [producto, perfecto, salir, casa, nintendo, sw...  \n",
              "2       es      video_games  [funciona, nintendo, switch, forma, emparejarl...  \n",
              "3       es      video_games  [recomendado, utilizo, pc, dan, ningún, proble...  \n",
              "4       es      video_games  [cable, funciona, bien, podria, ser, mas, larg...  "
            ]
          },
          "metadata": {
            "tags": []
          },
          "execution_count": 5
        }
      ]
    },
    {
      "cell_type": "markdown",
      "metadata": {
        "id": "j-0gthhcanXP"
      },
      "source": [
        "###  `[10 pts]` Punto 2: Modelo de LDA"
      ]
    },
    {
      "cell_type": "code",
      "metadata": {
        "id": "YeiYefLHanXQ"
      },
      "source": [
        "dictionary = Dictionary(data['Pre-Processed'].values)\n",
        "\n",
        "dictionary.filter_extremes(no_below=5, no_above=0.5) \n",
        "\n",
        "corpus = [dictionary.doc2bow(text) for text in data['Pre-Processed'].values]\n",
        "\n",
        "model = LdaModel(corpus = corpus, id2word = dictionary, num_topics = 7, passes=10)\n",
        "\n",
        "model.print_topics(num_words=10)"
      ],
      "execution_count": null,
      "outputs": []
    },
    {
      "cell_type": "markdown",
      "metadata": {
        "id": "P_1Zwqr2anXQ"
      },
      "source": [
        "###  `[25 pts]` Punto 3: Visualización de LDA"
      ]
    },
    {
      "cell_type": "code",
      "metadata": {
        "id": "d-YtYWtlanXR"
      },
      "source": [
        "lda_display = pyLDAvis.gensim_models.prepare(model, corpus, dictionary, sort_topics=True)\n",
        "pyLDAvis.display(lda_display)"
      ],
      "execution_count": null,
      "outputs": []
    },
    {
      "cell_type": "markdown",
      "metadata": {
        "id": "0kAAzxmNanXR"
      },
      "source": [
        "###  `[3 pts]` Preguntas\n",
        "\n",
        "- ¿Qué conclusiones puede sacar de los resultados de los últimos tres talleres, usando diferentes modelos pero los mismos datos?"
      ]
    }
  ]
}